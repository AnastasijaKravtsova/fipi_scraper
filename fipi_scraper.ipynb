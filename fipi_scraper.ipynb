{
 "cells": [
  {
   "cell_type": "code",
   "execution_count": null,
   "metadata": {},
   "outputs": [],
   "source": [
    "import json\n",
    "import sys\n",
    "from pathlib import Path\n",
    "import re\n",
    "\n",
    "from tqdm import tqdm_notebook\n",
    "from bs4 import BeautifulSoup\n",
    "from selenium import webdriver\n",
    "from selenium.webdriver.common.keys import Keys"
   ]
  },
  {
   "cell_type": "code",
   "execution_count": null,
   "metadata": {},
   "outputs": [],
   "source": [
    "firefox_profile = webdriver.FirefoxProfile()\n",
    "# firefox_profile.set_preference('permissions.default.image', 2)  # отключить загрузку картинок\n",
    "firefox_profile.set_preference('dom.ipc.plugins.enabled.libflashplayer.so', 'false')\n",
    "\n",
    "driver = webdriver.Firefox(executable_path='/home/anastasia/Downloads/geckodriver', firefox_profile=firefox_profile)"
   ]
  },
  {
   "cell_type": "code",
   "execution_count": null,
   "metadata": {},
   "outputs": [],
   "source": [
    "url = 'http://ege.fipi.ru/os11/xmodules/qprint/openlogin.php?proj=AF0ED3F2557F8FFC4C06F80B6803FD26'\n",
    "driver.get(url)"
   ]
  },
  {
   "cell_type": "code",
   "execution_count": null,
   "metadata": {},
   "outputs": [],
   "source": [
    "def parse_page(raw_html):\n",
    "    soup = BeautifulSoup(raw_html, 'lxml')\n",
    "    try:\n",
    "        t = soup.find_all('td', {'class':'cell_1'})\n",
    "        for el in t:\n",
    "            forms = el.find_all(\"form\")\n",
    "            tasks = []\n",
    "            for form in forms:\n",
    "                blocks = form.select('form > table > tbody > tr')\n",
    "                d = []\n",
    "                for block in blocks:\n",
    "                    p = block.find_all(\"p\")\n",
    "                    p = [x.text.strip() for x in p if x]\n",
    "                    p = [re.sub('(<(m|/m).*?>)+', '', x).replace('\\xa0', '').replace('\\xad', '')for x in p if x]\n",
    "                    if p:\n",
    "                        d.append(p)\n",
    "                tasks.append(d)\n",
    "            d1 = {str(soup.select_one('td.header').text):tasks}\n",
    "            with open('rus_tasks_ege.jsonl', 'a', encoding='utf8') as fout:\n",
    "                print(json.dumps(d1, ensure_ascii=False), file=fout, flush=True)\n",
    "    except AttributeError:\n",
    "        print('error')"
   ]
  },
  {
   "cell_type": "code",
   "execution_count": null,
   "metadata": {},
   "outputs": [],
   "source": [
    "headers_len = len(driver.find_elements_by_css_selector('td.coursebody a'))\n",
    "for i in range(headers_len):\n",
    "    driver.find_elements_by_css_selector('td.coursebody a')[i].click()\n",
    "    parse_page(driver.page_source)\n",
    "    len_pages = int(len(driver.find_elements_by_css_selector('span.Walk a')) / 2)\n",
    "    for k in range(len_pages):\n",
    "        driver.find_elements_by_css_selector('span.Walk a')[k].click()\n",
    "        parse_page(driver.page_source)"
   ]
  }
 ],
 "metadata": {
  "kernelspec": {
   "display_name": "Python 3",
   "language": "python",
   "name": "python3"
  },
  "language_info": {
   "codemirror_mode": {
    "name": "ipython",
    "version": 3
   },
   "file_extension": ".py",
   "mimetype": "text/x-python",
   "name": "python",
   "nbconvert_exporter": "python",
   "pygments_lexer": "ipython3",
   "version": "3.7.3"
  }
 },
 "nbformat": 4,
 "nbformat_minor": 4
}
